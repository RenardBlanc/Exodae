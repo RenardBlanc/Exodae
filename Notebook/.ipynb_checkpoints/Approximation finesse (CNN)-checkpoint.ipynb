{
 "cells": [
  {
   "cell_type": "markdown",
   "id": "15615120",
   "metadata": {},
   "source": [
    "# Approximation de la finesse maximale avec un (CNN)\n",
    "## GMC 809- Projet en génie aérospatial\n",
    "\n",
    "@Auteur : Ilyas Baktache"
   ]
  },
  {
   "cell_type": "markdown",
   "id": "008bbc32",
   "metadata": {},
   "source": [
    "__Objectif__ : On cherche à developper un algorithme CNN capable de produire la finesse maximale d’un profil pour un nombre de Mach et de Reynolds donné."
   ]
  },
  {
   "cell_type": "markdown",
   "id": "ce9dd435",
   "metadata": {},
   "source": [
    "## Librairies"
   ]
  },
  {
   "cell_type": "code",
   "execution_count": 2,
   "id": "abc8f699",
   "metadata": {},
   "outputs": [],
   "source": [
    "from application import *\n",
    "import pickle\n",
    "\n",
    "import pandas as pd\n",
    "import seaborn as snc"
   ]
  },
  {
   "cell_type": "markdown",
   "id": "b1f50662",
   "metadata": {},
   "source": [
    "## Préparation des données\n",
    "\n",
    "On prepare dans un premier temps les données et les labels"
   ]
  },
  {
   "cell_type": "code",
   "execution_count": 3,
   "id": "1a6abdc8",
   "metadata": {},
   "outputs": [
    {
     "name": "stdout",
     "output_type": "stream",
     "text": [
      "Pour des raisons divers, 10 profils ne peuvent pas être utilisé dans notre etude.\n",
      "On obtient alors une matrice X de taille (118,1628)\n"
     ]
    }
   ],
   "source": [
    "x,ally,nom_profil,marchepas = format.coordinate()\n",
    "print(\"Pour des raisons divers, {} profils ne peuvent pas être utilisé dans notre etude.\".format(len(marchepas)))\n",
    "n = np.shape(ally)[1]\n",
    "p = np.shape(ally)[0]\n",
    "print(\"On obtient alors une matrice X de taille ({},{})\".format(p,n))"
   ]
  },
  {
   "cell_type": "markdown",
   "id": "3a7f7bfa",
   "metadata": {},
   "source": [
    "### Étiquette\n",
    "\n",
    "L'étiquette qu'on cherche à produire avec notre algorithme sera la finesse maximale du profil pour un nombre de Reynolds donné"
   ]
  },
  {
   "cell_type": "code",
   "execution_count": 6,
   "id": "8fee0d99",
   "metadata": {},
   "outputs": [],
   "source": [
    "# On cherche les données de polaire pour un nombre de Mach nul et \n",
    "# des nombres de Reynolds allant de 50000 à 1000000\n",
    "M = 0\n",
    "Re_list=[50000,100000,200000,500000,1000000]\n",
    "\n",
    "# On note dans cette liste les finesses maximales\n",
    "finesse_max = np.zeros((len(nom_profil),len(Re_list)))\n",
    "no_data_all = [] \n",
    "for j in range(len(Re_list)):\n",
    "    Re = Re_list[j]\n",
    "    # Certaines données de polaire ne sont pas disponible pour tous\n",
    "    # les profils\n",
    "    no_data = [] \n",
    "    for i in range(len(nom_profil)):\n",
    "        name = nom_profil[i]\n",
    "        alpha,cL,cD,cDp,cM = utils.polarFile2list(name,M,Re)\n",
    "        # Ici on choisit alpha = 0\n",
    "        try :\n",
    "            cL = np.array(cL)\n",
    "            cD = np.array(cD)\n",
    "            finesse = cL/cD\n",
    "            finesse_max[i,j] = np.max(finesse)\n",
    "        except:\n",
    "            no_data.append(name)\n",
    "    no_data_all.append(no_data)"
   ]
  },
  {
   "cell_type": "markdown",
   "id": "76efd544",
   "metadata": {},
   "source": [
    "On arrondis les finesses maximale à une décimale près pour simplifier à améliorer la précision de notre algorithme par la suite."
   ]
  },
  {
   "cell_type": "code",
   "execution_count": 13,
   "id": "0da48a5f",
   "metadata": {},
   "outputs": [
    {
     "data": {
      "text/plain": [
       "array([[ 12. ,  37.2,  62.8,  95.5, 120.8],\n",
       "       [ 32.7,  49.1,  64.9,  82.1,  93.5],\n",
       "       [ 34.3,  52.9,  71.2,  95.6, 113.7],\n",
       "       ...,\n",
       "       [ 32.2,  54.1,  75.7, 102.7, 121.4],\n",
       "       [  5.8,  37.4,  76.8,  96.9, 105.1],\n",
       "       [ 21.3,  31.5,  42.5,  59.3,  74.8]])"
      ]
     },
     "execution_count": 13,
     "metadata": {},
     "output_type": "execute_result"
    }
   ],
   "source": [
    "finesse_max = finesse_max.round(1)"
   ]
  },
  {
   "cell_type": "markdown",
   "id": "f5a2e09c",
   "metadata": {},
   "source": [
    "On crée maintenant des listes de coordonnées pour tous les profils pour chaque couple Nombre de Mach/Nombre de Reynolds en fonction des données disponibles."
   ]
  },
  {
   "cell_type": "code",
   "execution_count": null,
   "id": "3f2f83c4",
   "metadata": {},
   "outputs": [],
   "source": [
    "# M = 0, Re = 50000\n",
    "ally_0_50000 = ally.copy()\n",
    "nom_profil_0_50000 = nom_profil.copy()\n",
    "for nom in range(no_data_all[0]):\n",
    "    index = nom_profil.index(nom)\n",
    "    ally_0_50000.pop(index)\n",
    "    nom_profil_0_50000.pop(index)\n",
    "\n",
    "# M = 0, Re = 100000\n",
    "ally_0_100000 = ally.copy()\n",
    "nom_profil_0_100000 = nom_profil.copy()\n",
    "for nom in range(no_data_all[1]):\n",
    "    index = nom_profil.index(nom)\n",
    "    ally_0_100000.pop(index)\n",
    "    nom_profil_0_100000.pop(index)\n",
    "\n",
    "\n",
    "# M = 0, Re = 200000\n",
    "ally_0_200000 = ally.copy()\n",
    "nom_profil_0_200000 = nom_profil.copy()\n",
    "for nom in range(no_data_all[2]):\n",
    "    index = nom_profil.index(nom)\n",
    "    ally_0_200000.pop(index)\n",
    "    nom_profil_0_200000.pop(index)\n",
    "\n",
    "\n",
    "# M = 0, Re = 500000\n",
    "ally_0_500000 = ally.copy()\n",
    "nom_profil_0_500000 = nom_profil.copy()\n",
    "for nom in range(no_data_all[3]):\n",
    "    index = nom_profil.index(nom)\n",
    "    ally_0_500000.pop(index)\n",
    "    nom_profil_0_500000.pop(index)\n",
    "\n",
    "\n",
    "# M = 0, Re = 1000000\n",
    "ally_0_1000000 = ally.copy()\n",
    "nom_profil_0_1000000 = nom_profil.copy()\n",
    "for nom in range(no_data_all[4]):\n",
    "    index = nom_profil.index(nom)\n",
    "    ally_0_1000000.pop(index)\n",
    "    nom_profil_0_1000000.pop(index)\n",
    "\n"
   ]
  },
  {
   "cell_type": "markdown",
   "id": "4c49aa4f",
   "metadata": {},
   "source": [
    "### Partionnement des données\n",
    "\n",
    "On doit maintenant distinguer 3 groupes de données:\n",
    "* Données d'entrainement: 60% de la totalité des données.\n",
    "* Données de tests: 30% de la totalité des données.\n",
    "* Données de validation: 10% de la totalité des données."
   ]
  },
  {
   "cell_type": "markdown",
   "id": "c065b3c0",
   "metadata": {},
   "source": [
    "### Dictionnaire de données"
   ]
  },
  {
   "cell_type": "markdown",
   "id": "e9e308ee",
   "metadata": {},
   "source": [
    "Afin de simplifier notre travail par la suite, on crée des dictionnaires qui regroupe toutes les données préparées dans les sections precédentes "
   ]
  },
  {
   "cell_type": "code",
   "execution_count": null,
   "id": "60c4eb50",
   "metadata": {},
   "outputs": [],
   "source": [
    "dict_0_50000 = {'x_train' : ally_0_50000,\n",
    "                'y_train'\n",
    "                'label' : finesse_max[0], \n",
    "                'nom_profil' : nom_profil_0_50000}\n",
    "\n",
    "dict_0_100000 = {'coord' : ally_0_100000, \n",
    "                'label' : finesse_max[1], \n",
    "                'nom_profil' : nom_profil_0_100000}\n",
    "\n",
    "dict_0_200000 = {'coord' : ally_0_200000, \n",
    "                'label' : finesse_max[2], \n",
    "                'nom_profil' : nom_profil_0_200000}\n",
    "\n",
    "dict_0_500000 = {'coord' : ally_0_500000, \n",
    "                'label' : finesse_max[3], \n",
    "                'nom_profil' : nom_profil_0_500000}\n",
    "                \n",
    "dict_0_1000000 = {'coord' : ally_0_1000000, \n",
    "                 'label' : finesse_max[4], \n",
    "                 'nom_profil' : nom_profil_0_1000000}"
   ]
  }
 ],
 "metadata": {
  "kernelspec": {
   "display_name": "Python 3",
   "language": "python",
   "name": "python3"
  },
  "language_info": {
   "codemirror_mode": {
    "name": "ipython",
    "version": 3
   },
   "file_extension": ".py",
   "mimetype": "text/x-python",
   "name": "python",
   "nbconvert_exporter": "python",
   "pygments_lexer": "ipython3",
   "version": "3.8.8"
  },
  "vscode": {
   "interpreter": {
    "hash": "0f57bc79f535d1fd6ed0bc51554c95c763edeb368fad2d755e18198b2db50680"
   }
  }
 },
 "nbformat": 4,
 "nbformat_minor": 5
}
